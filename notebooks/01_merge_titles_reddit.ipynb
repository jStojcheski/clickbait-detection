{
 "cells": [
  {
   "cell_type": "markdown",
   "metadata": {},
   "source": [
    "# Reddit: Merge titles\n",
    "\n",
    "- <a href=\"https://www.reddit.com/r/inthenews\">/r/inthenews</a>\n",
    "- <a href=\"https://www.reddit.com/r/news\">/r/news</a>\n",
    "- <a href=\"https://www.reddit.com/r/savedyouaclick\">/r/savedyouaclick</a>"
   ]
  },
  {
   "cell_type": "code",
   "execution_count": 1,
   "metadata": {},
   "outputs": [],
   "source": [
    "import numpy as np\n",
    "import os\n",
    "import pandas as pd\n",
    "\n",
    "from pprint import pprint"
   ]
  },
  {
   "cell_type": "markdown",
   "metadata": {},
   "source": [
    "## Set input folder"
   ]
  },
  {
   "cell_type": "code",
   "execution_count": 2,
   "metadata": {},
   "outputs": [
    {
     "name": "stdout",
     "output_type": "stream",
     "text": [
      "['_reddit_clck.csv',\n",
      " '_reddit_news.csv',\n",
      " 'inthenews',\n",
      " 'inthenews_all.csv',\n",
      " 'inthenews_aoi.csv',\n",
      " 'news',\n",
      " 'news_gt1_all.csv',\n",
      " 'news_gt1_aoi.csv',\n",
      " 'savedyouaclick',\n",
      " 'savedyouaclick_all.csv',\n",
      " 'savedyouaclick_aoi.csv']\n"
     ]
    }
   ],
   "source": [
    "data_in = '../data/00_raw/pushshift/'\n",
    "\n",
    "pprint(sorted(os.listdir(data_in)))"
   ]
  },
  {
   "cell_type": "markdown",
   "metadata": {},
   "source": [
    "## Choose attributes of interest"
   ]
  },
  {
   "cell_type": "code",
   "execution_count": 3,
   "metadata": {},
   "outputs": [],
   "source": [
    "aoi = ['created_utc',\n",
    "       'num_comments',\n",
    "       'score',\n",
    "       'title']"
   ]
  },
  {
   "cell_type": "markdown",
   "metadata": {},
   "source": [
    "## Clickbaits"
   ]
  },
  {
   "cell_type": "markdown",
   "metadata": {},
   "source": [
    "### /r/savedyouaclick"
   ]
  },
  {
   "cell_type": "code",
   "execution_count": 4,
   "metadata": {},
   "outputs": [
    {
     "name": "stderr",
     "output_type": "stream",
     "text": [
      "/opt/anaconda/lib/python3.6/site-packages/IPython/core/interactiveshell.py:2785: DtypeWarning: Columns (5,7,8,9,12,13,23,24,25,26,28,30,31,32,34,35,36,52,54,56,57,58,59,64,67,68,74,80,104,105) have mixed types. Specify dtype option on import or set low_memory=False.\n",
      "  interactivity=interactivity, compiler=compiler, result=result)\n"
     ]
    },
    {
     "data": {
      "text/html": [
       "<div>\n",
       "<style scoped>\n",
       "    .dataframe tbody tr th:only-of-type {\n",
       "        vertical-align: middle;\n",
       "    }\n",
       "\n",
       "    .dataframe tbody tr th {\n",
       "        vertical-align: top;\n",
       "    }\n",
       "\n",
       "    .dataframe thead th {\n",
       "        text-align: right;\n",
       "    }\n",
       "</style>\n",
       "<table border=\"1\" class=\"dataframe\">\n",
       "  <thead>\n",
       "    <tr style=\"text-align: right;\">\n",
       "      <th></th>\n",
       "      <th>author</th>\n",
       "      <th>author_cakeday</th>\n",
       "      <th>author_flair_background_color</th>\n",
       "      <th>author_flair_css_class</th>\n",
       "      <th>author_flair_richtext</th>\n",
       "      <th>author_flair_text</th>\n",
       "      <th>author_flair_text_color</th>\n",
       "      <th>author_flair_type</th>\n",
       "      <th>author_id</th>\n",
       "      <th>banned_by</th>\n",
       "      <th>...</th>\n",
       "      <th>subreddit_id</th>\n",
       "      <th>subreddit_subscribers</th>\n",
       "      <th>subreddit_type</th>\n",
       "      <th>thumbnail</th>\n",
       "      <th>thumbnail_height</th>\n",
       "      <th>thumbnail_width</th>\n",
       "      <th>title</th>\n",
       "      <th>url</th>\n",
       "      <th>whitelist_status</th>\n",
       "      <th>wls</th>\n",
       "    </tr>\n",
       "  </thead>\n",
       "  <tbody>\n",
       "    <tr>\n",
       "      <th>0</th>\n",
       "      <td>JerseysFinest</td>\n",
       "      <td>NaN</td>\n",
       "      <td>NaN</td>\n",
       "      <td>NaN</td>\n",
       "      <td>NaN</td>\n",
       "      <td>NaN</td>\n",
       "      <td>NaN</td>\n",
       "      <td>NaN</td>\n",
       "      <td>NaN</td>\n",
       "      <td>NaN</td>\n",
       "      <td>...</td>\n",
       "      <td>t5_323r3</td>\n",
       "      <td>NaN</td>\n",
       "      <td>NaN</td>\n",
       "      <td>http://a.thumbs.redditmedia.com/B_aQNVtrfjqzAO...</td>\n",
       "      <td>NaN</td>\n",
       "      <td>NaN</td>\n",
       "      <td>The best American soccer player you’ve never h...</td>\n",
       "      <td>http://ftw.usatoday.com/2014/07/perry-kitchen-...</td>\n",
       "      <td>NaN</td>\n",
       "      <td>NaN</td>\n",
       "    </tr>\n",
       "    <tr>\n",
       "      <th>1</th>\n",
       "      <td>kuhnie</td>\n",
       "      <td>NaN</td>\n",
       "      <td>NaN</td>\n",
       "      <td>NaN</td>\n",
       "      <td>NaN</td>\n",
       "      <td>NaN</td>\n",
       "      <td>NaN</td>\n",
       "      <td>NaN</td>\n",
       "      <td>NaN</td>\n",
       "      <td>NaN</td>\n",
       "      <td>...</td>\n",
       "      <td>t5_323r3</td>\n",
       "      <td>NaN</td>\n",
       "      <td>NaN</td>\n",
       "      <td>http://b.thumbs.redditmedia.com/RJjRd-4d0YwRbT...</td>\n",
       "      <td>NaN</td>\n",
       "      <td>NaN</td>\n",
       "      <td>How \"The Vampire Diaries\" Co-Creator Julie Ple...</td>\n",
       "      <td>http://www.cosmopolitan.com/lifestyle/a47035/o...</td>\n",
       "      <td>NaN</td>\n",
       "      <td>NaN</td>\n",
       "    </tr>\n",
       "    <tr>\n",
       "      <th>2</th>\n",
       "      <td>kuhnie</td>\n",
       "      <td>NaN</td>\n",
       "      <td>NaN</td>\n",
       "      <td>NaN</td>\n",
       "      <td>NaN</td>\n",
       "      <td>NaN</td>\n",
       "      <td>NaN</td>\n",
       "      <td>NaN</td>\n",
       "      <td>NaN</td>\n",
       "      <td>NaN</td>\n",
       "      <td>...</td>\n",
       "      <td>t5_323r3</td>\n",
       "      <td>NaN</td>\n",
       "      <td>NaN</td>\n",
       "      <td>http://b.thumbs.redditmedia.com/sVbvZlADXGSXbN...</td>\n",
       "      <td>NaN</td>\n",
       "      <td>NaN</td>\n",
       "      <td>Who Ranks #1 in Business Schools? | Harvard</td>\n",
       "      <td>http://www.bloomberg.com/news/videos/2015-10-2...</td>\n",
       "      <td>NaN</td>\n",
       "      <td>NaN</td>\n",
       "    </tr>\n",
       "    <tr>\n",
       "      <th>3</th>\n",
       "      <td>biscram</td>\n",
       "      <td>NaN</td>\n",
       "      <td>NaN</td>\n",
       "      <td>NaN</td>\n",
       "      <td>NaN</td>\n",
       "      <td>NaN</td>\n",
       "      <td>NaN</td>\n",
       "      <td>NaN</td>\n",
       "      <td>NaN</td>\n",
       "      <td>NaN</td>\n",
       "      <td>...</td>\n",
       "      <td>t5_323r3</td>\n",
       "      <td>NaN</td>\n",
       "      <td>NaN</td>\n",
       "      <td>default</td>\n",
       "      <td>NaN</td>\n",
       "      <td>NaN</td>\n",
       "      <td>Honeymooners forced to splurge $1600 after Syd...</td>\n",
       "      <td>http://www.theage.com.au/nsw/honeymooners-forc...</td>\n",
       "      <td>NaN</td>\n",
       "      <td>NaN</td>\n",
       "    </tr>\n",
       "    <tr>\n",
       "      <th>4</th>\n",
       "      <td>[deleted]</td>\n",
       "      <td>NaN</td>\n",
       "      <td>NaN</td>\n",
       "      <td>NaN</td>\n",
       "      <td>NaN</td>\n",
       "      <td>NaN</td>\n",
       "      <td>NaN</td>\n",
       "      <td>NaN</td>\n",
       "      <td>NaN</td>\n",
       "      <td>NaN</td>\n",
       "      <td>...</td>\n",
       "      <td>t5_323r3</td>\n",
       "      <td>NaN</td>\n",
       "      <td>NaN</td>\n",
       "      <td>default</td>\n",
       "      <td>NaN</td>\n",
       "      <td>NaN</td>\n",
       "      <td>Here's the ONE Detail Everyone Missed in \"Home...</td>\n",
       "      <td>http://archive.is/8RlYi/image</td>\n",
       "      <td>NaN</td>\n",
       "      <td>NaN</td>\n",
       "    </tr>\n",
       "  </tbody>\n",
       "</table>\n",
       "<p>5 rows × 117 columns</p>\n",
       "</div>"
      ],
      "text/plain": [
       "          author author_cakeday  author_flair_background_color  \\\n",
       "0  JerseysFinest            NaN                            NaN   \n",
       "1         kuhnie            NaN                            NaN   \n",
       "2         kuhnie            NaN                            NaN   \n",
       "3        biscram            NaN                            NaN   \n",
       "4      [deleted]            NaN                            NaN   \n",
       "\n",
       "  author_flair_css_class author_flair_richtext author_flair_text  \\\n",
       "0                    NaN                   NaN               NaN   \n",
       "1                    NaN                   NaN               NaN   \n",
       "2                    NaN                   NaN               NaN   \n",
       "3                    NaN                   NaN               NaN   \n",
       "4                    NaN                   NaN               NaN   \n",
       "\n",
       "  author_flair_text_color author_flair_type author_id banned_by ...  \\\n",
       "0                     NaN               NaN       NaN       NaN ...   \n",
       "1                     NaN               NaN       NaN       NaN ...   \n",
       "2                     NaN               NaN       NaN       NaN ...   \n",
       "3                     NaN               NaN       NaN       NaN ...   \n",
       "4                     NaN               NaN       NaN       NaN ...   \n",
       "\n",
       "  subreddit_id subreddit_subscribers subreddit_type  \\\n",
       "0     t5_323r3                   NaN            NaN   \n",
       "1     t5_323r3                   NaN            NaN   \n",
       "2     t5_323r3                   NaN            NaN   \n",
       "3     t5_323r3                   NaN            NaN   \n",
       "4     t5_323r3                   NaN            NaN   \n",
       "\n",
       "                                           thumbnail thumbnail_height  \\\n",
       "0  http://a.thumbs.redditmedia.com/B_aQNVtrfjqzAO...              NaN   \n",
       "1  http://b.thumbs.redditmedia.com/RJjRd-4d0YwRbT...              NaN   \n",
       "2  http://b.thumbs.redditmedia.com/sVbvZlADXGSXbN...              NaN   \n",
       "3                                            default              NaN   \n",
       "4                                            default              NaN   \n",
       "\n",
       "  thumbnail_width                                              title  \\\n",
       "0             NaN  The best American soccer player you’ve never h...   \n",
       "1             NaN  How \"The Vampire Diaries\" Co-Creator Julie Ple...   \n",
       "2             NaN        Who Ranks #1 in Business Schools? | Harvard   \n",
       "3             NaN  Honeymooners forced to splurge $1600 after Syd...   \n",
       "4             NaN  Here's the ONE Detail Everyone Missed in \"Home...   \n",
       "\n",
       "                                                 url  whitelist_status wls  \n",
       "0  http://ftw.usatoday.com/2014/07/perry-kitchen-...               NaN NaN  \n",
       "1  http://www.cosmopolitan.com/lifestyle/a47035/o...               NaN NaN  \n",
       "2  http://www.bloomberg.com/news/videos/2015-10-2...               NaN NaN  \n",
       "3  http://www.theage.com.au/nsw/honeymooners-forc...               NaN NaN  \n",
       "4                      http://archive.is/8RlYi/image               NaN NaN  \n",
       "\n",
       "[5 rows x 117 columns]"
      ]
     },
     "execution_count": 4,
     "metadata": {},
     "output_type": "execute_result"
    }
   ],
   "source": [
    "df = pd.read_csv(f'{data_in}/savedyouaclick_all.csv',\n",
    "                 index_col='Unnamed: 0')\n",
    "df.head()"
   ]
  },
  {
   "cell_type": "markdown",
   "metadata": {},
   "source": [
    "#### Split the titles from the answers"
   ]
  },
  {
   "cell_type": "code",
   "execution_count": 5,
   "metadata": {},
   "outputs": [],
   "source": [
    "df['title'] = pd.Series([item[0].strip() if len(item[0].strip()) > 1 else np.nan\n",
    "                         for item in df[aoi]['title'].str.split('|')])"
   ]
  },
  {
   "cell_type": "markdown",
   "metadata": {},
   "source": [
    "#### Output data to csv format"
   ]
  },
  {
   "cell_type": "code",
   "execution_count": 6,
   "metadata": {},
   "outputs": [],
   "source": [
    "df[aoi].to_csv(f'{data_in}/00_reddit_clck.csv')"
   ]
  },
  {
   "cell_type": "markdown",
   "metadata": {},
   "source": [
    "## News"
   ]
  },
  {
   "cell_type": "markdown",
   "metadata": {},
   "source": [
    "### Read data"
   ]
  },
  {
   "cell_type": "markdown",
   "metadata": {},
   "source": [
    "#### /r/inthenews"
   ]
  },
  {
   "cell_type": "code",
   "execution_count": 7,
   "metadata": {},
   "outputs": [
    {
     "data": {
      "text/html": [
       "<div>\n",
       "<style scoped>\n",
       "    .dataframe tbody tr th:only-of-type {\n",
       "        vertical-align: middle;\n",
       "    }\n",
       "\n",
       "    .dataframe tbody tr th {\n",
       "        vertical-align: top;\n",
       "    }\n",
       "\n",
       "    .dataframe thead th {\n",
       "        text-align: right;\n",
       "    }\n",
       "</style>\n",
       "<table border=\"1\" class=\"dataframe\">\n",
       "  <thead>\n",
       "    <tr style=\"text-align: right;\">\n",
       "      <th></th>\n",
       "      <th>created_utc</th>\n",
       "      <th>num_comments</th>\n",
       "      <th>score</th>\n",
       "      <th>title</th>\n",
       "    </tr>\n",
       "  </thead>\n",
       "  <tbody>\n",
       "    <tr>\n",
       "      <th>0</th>\n",
       "      <td>1290061764</td>\n",
       "      <td>0</td>\n",
       "      <td>1</td>\n",
       "      <td>Alleged ‘Merchant of Death’ Pleads Not Guilty ...</td>\n",
       "    </tr>\n",
       "    <tr>\n",
       "      <th>1</th>\n",
       "      <td>1265051681</td>\n",
       "      <td>0</td>\n",
       "      <td>1</td>\n",
       "      <td>Bears should consider signing Julius Peppers</td>\n",
       "    </tr>\n",
       "    <tr>\n",
       "      <th>2</th>\n",
       "      <td>1264921014</td>\n",
       "      <td>0</td>\n",
       "      <td>2</td>\n",
       "      <td>U.S. Speeding Up Missile Defenses in Persian G...</td>\n",
       "    </tr>\n",
       "    <tr>\n",
       "      <th>3</th>\n",
       "      <td>1321002541</td>\n",
       "      <td>0</td>\n",
       "      <td>1</td>\n",
       "      <td>Mark Heisler: Joe Paterno Gets Due Process of ...</td>\n",
       "    </tr>\n",
       "    <tr>\n",
       "      <th>4</th>\n",
       "      <td>1310110706</td>\n",
       "      <td>0</td>\n",
       "      <td>1</td>\n",
       "      <td>Hacking Scandal Leads to British Tabloid’s Dem...</td>\n",
       "    </tr>\n",
       "  </tbody>\n",
       "</table>\n",
       "</div>"
      ],
      "text/plain": [
       "   created_utc  num_comments  score  \\\n",
       "0   1290061764             0      1   \n",
       "1   1265051681             0      1   \n",
       "2   1264921014             0      2   \n",
       "3   1321002541             0      1   \n",
       "4   1310110706             0      1   \n",
       "\n",
       "                                               title  \n",
       "0  Alleged ‘Merchant of Death’ Pleads Not Guilty ...  \n",
       "1       Bears should consider signing Julius Peppers  \n",
       "2  U.S. Speeding Up Missile Defenses in Persian G...  \n",
       "3  Mark Heisler: Joe Paterno Gets Due Process of ...  \n",
       "4  Hacking Scandal Leads to British Tabloid’s Dem...  "
      ]
     },
     "execution_count": 7,
     "metadata": {},
     "output_type": "execute_result"
    }
   ],
   "source": [
    "df1 = pd.read_csv(f'{data_in}/inthenews_aoi.csv',\n",
    "                  index_col='Unnamed: 0')\n",
    "df1.head()"
   ]
  },
  {
   "cell_type": "markdown",
   "metadata": {},
   "source": [
    "#### /r/news"
   ]
  },
  {
   "cell_type": "code",
   "execution_count": 8,
   "metadata": {},
   "outputs": [
    {
     "data": {
      "text/html": [
       "<div>\n",
       "<style scoped>\n",
       "    .dataframe tbody tr th:only-of-type {\n",
       "        vertical-align: middle;\n",
       "    }\n",
       "\n",
       "    .dataframe tbody tr th {\n",
       "        vertical-align: top;\n",
       "    }\n",
       "\n",
       "    .dataframe thead th {\n",
       "        text-align: right;\n",
       "    }\n",
       "</style>\n",
       "<table border=\"1\" class=\"dataframe\">\n",
       "  <thead>\n",
       "    <tr style=\"text-align: right;\">\n",
       "      <th></th>\n",
       "      <th>created_utc</th>\n",
       "      <th>num_comments</th>\n",
       "      <th>score</th>\n",
       "      <th>title</th>\n",
       "    </tr>\n",
       "  </thead>\n",
       "  <tbody>\n",
       "    <tr>\n",
       "      <th>0</th>\n",
       "      <td>1.533212e+09</td>\n",
       "      <td>86.0</td>\n",
       "      <td>4.0</td>\n",
       "      <td>Pope Francis says the death penalty is always ...</td>\n",
       "    </tr>\n",
       "    <tr>\n",
       "      <th>1</th>\n",
       "      <td>1.533211e+09</td>\n",
       "      <td>2.0</td>\n",
       "      <td>4.0</td>\n",
       "      <td>Pope Francis says death penalty is 'inadmissible'</td>\n",
       "    </tr>\n",
       "    <tr>\n",
       "      <th>2</th>\n",
       "      <td>1.533211e+09</td>\n",
       "      <td>234.0</td>\n",
       "      <td>3.0</td>\n",
       "      <td>World's most prestigious maths medal is stolen...</td>\n",
       "    </tr>\n",
       "    <tr>\n",
       "      <th>3</th>\n",
       "      <td>1.533211e+09</td>\n",
       "      <td>20.0</td>\n",
       "      <td>5.0</td>\n",
       "      <td>DRC: New Ebola virus outbreak days after previ...</td>\n",
       "    </tr>\n",
       "    <tr>\n",
       "      <th>4</th>\n",
       "      <td>1.533210e+09</td>\n",
       "      <td>383.0</td>\n",
       "      <td>13.0</td>\n",
       "      <td>Radio host Art Bell died of accidental drug ov...</td>\n",
       "    </tr>\n",
       "  </tbody>\n",
       "</table>\n",
       "</div>"
      ],
      "text/plain": [
       "    created_utc  num_comments  score  \\\n",
       "0  1.533212e+09          86.0    4.0   \n",
       "1  1.533211e+09           2.0    4.0   \n",
       "2  1.533211e+09         234.0    3.0   \n",
       "3  1.533211e+09          20.0    5.0   \n",
       "4  1.533210e+09         383.0   13.0   \n",
       "\n",
       "                                               title  \n",
       "0  Pope Francis says the death penalty is always ...  \n",
       "1  Pope Francis says death penalty is 'inadmissible'  \n",
       "2  World's most prestigious maths medal is stolen...  \n",
       "3  DRC: New Ebola virus outbreak days after previ...  \n",
       "4  Radio host Art Bell died of accidental drug ov...  "
      ]
     },
     "execution_count": 8,
     "metadata": {},
     "output_type": "execute_result"
    }
   ],
   "source": [
    "df2 = pd.read_csv(f'{data_in}/news_gt1_aoi.csv',\n",
    "                  index_col='Unnamed: 0')\n",
    "df2.head()"
   ]
  },
  {
   "cell_type": "markdown",
   "metadata": {},
   "source": [
    "### Merge data"
   ]
  },
  {
   "cell_type": "code",
   "execution_count": 9,
   "metadata": {},
   "outputs": [
    {
     "data": {
      "text/html": [
       "<div>\n",
       "<style scoped>\n",
       "    .dataframe tbody tr th:only-of-type {\n",
       "        vertical-align: middle;\n",
       "    }\n",
       "\n",
       "    .dataframe tbody tr th {\n",
       "        vertical-align: top;\n",
       "    }\n",
       "\n",
       "    .dataframe thead th {\n",
       "        text-align: right;\n",
       "    }\n",
       "</style>\n",
       "<table border=\"1\" class=\"dataframe\">\n",
       "  <thead>\n",
       "    <tr style=\"text-align: right;\">\n",
       "      <th></th>\n",
       "      <th>created_utc</th>\n",
       "      <th>num_comments</th>\n",
       "      <th>score</th>\n",
       "      <th>title</th>\n",
       "    </tr>\n",
       "  </thead>\n",
       "  <tbody>\n",
       "    <tr>\n",
       "      <th>0</th>\n",
       "      <td>1.290062e+09</td>\n",
       "      <td>0.0</td>\n",
       "      <td>1.0</td>\n",
       "      <td>Alleged ‘Merchant of Death’ Pleads Not Guilty ...</td>\n",
       "    </tr>\n",
       "    <tr>\n",
       "      <th>1</th>\n",
       "      <td>1.265052e+09</td>\n",
       "      <td>0.0</td>\n",
       "      <td>1.0</td>\n",
       "      <td>Bears should consider signing Julius Peppers</td>\n",
       "    </tr>\n",
       "    <tr>\n",
       "      <th>2</th>\n",
       "      <td>1.264921e+09</td>\n",
       "      <td>0.0</td>\n",
       "      <td>2.0</td>\n",
       "      <td>U.S. Speeding Up Missile Defenses in Persian G...</td>\n",
       "    </tr>\n",
       "    <tr>\n",
       "      <th>3</th>\n",
       "      <td>1.321003e+09</td>\n",
       "      <td>0.0</td>\n",
       "      <td>1.0</td>\n",
       "      <td>Mark Heisler: Joe Paterno Gets Due Process of ...</td>\n",
       "    </tr>\n",
       "    <tr>\n",
       "      <th>4</th>\n",
       "      <td>1.310111e+09</td>\n",
       "      <td>0.0</td>\n",
       "      <td>1.0</td>\n",
       "      <td>Hacking Scandal Leads to British Tabloid’s Dem...</td>\n",
       "    </tr>\n",
       "  </tbody>\n",
       "</table>\n",
       "</div>"
      ],
      "text/plain": [
       "    created_utc  num_comments  score  \\\n",
       "0  1.290062e+09           0.0    1.0   \n",
       "1  1.265052e+09           0.0    1.0   \n",
       "2  1.264921e+09           0.0    2.0   \n",
       "3  1.321003e+09           0.0    1.0   \n",
       "4  1.310111e+09           0.0    1.0   \n",
       "\n",
       "                                               title  \n",
       "0  Alleged ‘Merchant of Death’ Pleads Not Guilty ...  \n",
       "1       Bears should consider signing Julius Peppers  \n",
       "2  U.S. Speeding Up Missile Defenses in Persian G...  \n",
       "3  Mark Heisler: Joe Paterno Gets Due Process of ...  \n",
       "4  Hacking Scandal Leads to British Tabloid’s Dem...  "
      ]
     },
     "execution_count": 9,
     "metadata": {},
     "output_type": "execute_result"
    }
   ],
   "source": [
    "df = pd.concat([df1, df2], sort=True, ignore_index=True)\n",
    "df.head()"
   ]
  },
  {
   "cell_type": "markdown",
   "metadata": {},
   "source": [
    "### Output data to csv format"
   ]
  },
  {
   "cell_type": "code",
   "execution_count": 10,
   "metadata": {},
   "outputs": [],
   "source": [
    "df[aoi].to_csv(f'{data_in}/00_reddit_news.csv')"
   ]
  }
 ],
 "metadata": {
  "kernelspec": {
   "display_name": "Python 3",
   "language": "python",
   "name": "python3"
  },
  "language_info": {
   "codemirror_mode": {
    "name": "ipython",
    "version": 3
   },
   "file_extension": ".py",
   "mimetype": "text/x-python",
   "name": "python",
   "nbconvert_exporter": "python",
   "pygments_lexer": "ipython3",
   "version": "3.6.5"
  }
 },
 "nbformat": 4,
 "nbformat_minor": 2
}
